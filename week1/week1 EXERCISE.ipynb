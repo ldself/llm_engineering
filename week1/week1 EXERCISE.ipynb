{
 "cells": [
  {
   "cell_type": "markdown",
   "id": "fe12c203-e6a6-452c-a655-afb8a03a4ff5",
   "metadata": {},
   "source": [
    "# End of week 1 exercise\n",
    "\n",
    "To demonstrate your familiarity with OpenAI API, and also Ollama, build a tool that takes a technical question,  \n",
    "and responds with an explanation. This is a tool that you will be able to use yourself during the course!"
   ]
  },
  {
   "cell_type": "code",
   "execution_count": 1,
   "id": "c1070317-3ed9-4659-abe3-828943230e03",
   "metadata": {},
   "outputs": [],
   "source": [
    "# imports\n",
    "import os\n",
    "import requests\n",
    "import json\n",
    "from dotenv import load_dotenv\n",
    "from openai import OpenAI\n",
    "from IPython.display import Markdown, display, update_display\n"
   ]
  },
  {
   "cell_type": "code",
   "execution_count": 2,
   "id": "4a456906-915a-4bfd-bb9d-57e505c5093f",
   "metadata": {},
   "outputs": [],
   "source": [
    "# constants\n",
    "\n",
    "MODEL_GPT = 'gpt-4o-mini'\n",
    "MODEL_LLAMA = 'llama3.2'"
   ]
  },
  {
   "cell_type": "code",
   "execution_count": null,
   "id": "a8d7923c-5f28-4c30-8556-342d7c8497c1",
   "metadata": {},
   "outputs": [],
   "source": [
    "# set up environment\n",
    "load_dotenv(override=True)\n",
    "api_key = os.getenv('OPENAI_API_KEY')\n"
   ]
  },
  {
   "cell_type": "code",
   "execution_count": 5,
   "id": "85d209f6",
   "metadata": {},
   "outputs": [],
   "source": [
    "system_prompt = \"\"\"\n",
    "    You are a customer service representative for a company that\n",
    "    answers technical question. A customer has contacted you with a question\n",
    "    about the product.\"\n",
    "\"\"\""
   ]
  },
  {
   "cell_type": "code",
   "execution_count": 6,
   "id": "3f0d0137-52b0-47a8-81a8-11a90a010798",
   "metadata": {},
   "outputs": [],
   "source": [
    "# here is the question; type over this to ask something new\n",
    "\n",
    "question = \"\"\"\n",
    "Please explain what this code does and why:\n",
    "yield from {book.get(\"author\") for book in books if book.get(\"author\")}\n",
    "\"\"\""
   ]
  },
  {
   "cell_type": "code",
   "execution_count": 13,
   "id": "fb3c3fc6",
   "metadata": {},
   "outputs": [],
   "source": [
    "def stream_response(openai, model: str, system_prompt: str, question: str):\n",
    "    stream = openai.chat.completions.create(\n",
    "    model=model,\n",
    "    messages=[\n",
    "        {\"role\": \"system\", \"content\": system_prompt},\n",
    "        {\"role\": \"user\", \"content\": question}\n",
    "        ],\n",
    "    stream=True\n",
    "    )\n",
    "\n",
    "    response = \"\"\n",
    "    display_handle = display(Markdown(\"\"), display_id=True)\n",
    "    for chunk in stream:\n",
    "        response += chunk.choices[0].delta.content or ''\n",
    "        response = response.replace(\"```\",\"\").replace(\"markdown\", \"\")\n",
    "        update_display(Markdown(response), display_id=display_handle.display_id)"
   ]
  },
  {
   "cell_type": "code",
   "execution_count": 14,
   "id": "60ce7000-a4a5-4cce-a261-e75ef45063b4",
   "metadata": {},
   "outputs": [
    {
     "data": {
      "text/markdown": [
       "The code you've provided is a generator expression that produces a sequence of authors from a collection of books, specifically from a list or iterable named `books`. Let's break it down:\n",
       "\n",
       "1. **Set Comprehension**: The code `{book.get(\"author\") for book in books if book.get(\"author\")}` is a set comprehension. This creates a set of authors:\n",
       "   - `book.get(\"author\")` retrieves the value associated with the key `\"author\"` for each `book` in the `books` collection.\n",
       "   - The condition `if book.get(\"author\")` ensures that only books with an author value (i.e., the author's name is not `None`, `False`, or an empty string) are included in the set.\n",
       "\n",
       "2. **Yield from**: The `yield from` keyword is used in a generator function. It allows the generator to yield all values from the iterable (in this case, the set created by the set comprehension) as if they were being produced one by one.\n",
       "   - Because this is a generator, the values can be consumed lazily, meaning that they are computed one at a time and only as needed.\n",
       "\n",
       "### Summary:\n",
       "- **Function**: The entire expression extracts unique authors from a list of books while filtering out any entries without an author, and then yields these authors one at a time.\n",
       "- **Why**: Using a generator here with `yield from` is efficient for handling potentially large datasets, as it allows for processing elements sequentially without loading them all into memory at once. Additionally, using a set ensures that each author is only returned once, eliminating duplicates.\n",
       "\n",
       "This can be particularly useful in scenarios where you want to enumerate or process authors without accumulating them all at once, thus keeping memory usage lower."
      ],
      "text/plain": [
       "<IPython.core.display.Markdown object>"
      ]
     },
     "metadata": {},
     "output_type": "display_data"
    }
   ],
   "source": [
    "# Get gpt-4o-mini to answer, with streaming\n",
    "openai = OpenAI()\n",
    "stream_response(openai, MODEL_GPT, system_prompt, question)"
   ]
  },
  {
   "cell_type": "code",
   "execution_count": 15,
   "id": "8f7c8ea8-4082-4ad0-8751-3301adcf6538",
   "metadata": {},
   "outputs": [
    {
     "data": {
      "text/markdown": [
       "This line of code uses a combination of generator expression, dictionary lookup, and conditional filtering to extract author names from a list of dictionaries (`books`).\n",
       "\n",
       "Here's a breakdown:\n",
       "\n",
       "- `for book in books`: This part iterates over each dictionary in the `books` list.\n",
       "- `{book.get(\"author\") for book in books if book.get(\"author\")}`: This is a generator expression that filters out dictionaries without an \"author\" key and yields only the author name from dictionaries with an \"author\" key.\n",
       "\n",
       "  - `for book in books` iterates over each dictionary (`book`) in `books`.\n",
       "  - `if book.get(\"author\")`: This condition checks if the current dictionary has a key named \"author\". If it does, it proceeds to the next step.\n",
       "  \n",
       "- `yield from {...}`: The `yield from` clause is used to yield results from another iterable (in this case, the generator expression). When `yield from` is encountered in a function definition or class definition, it causes a new execution context for that part of code. The returned values are yielded by the generator expression defined on the right side (`{...}`).\n",
       "\n",
       "In summary, this line yields the author name of each book that has an \"author\" key without actually loading all books into memory at once.\n",
       "\n",
       "Here's how you might use this in a loop to yield authors one at a time:\n",
       "\n",
       "python\n",
       "for book in books:\n",
       "    if book.get(\"author\"):\n",
       "        for author in yield from {book.get(\"author\") for book in books if book.get(\"author\")}:\n",
       "            print(author)\n",
       "\n",
       "\n",
       "This code will keep printing the authors of all books until the loop is stopped, instead of printing them all at once which would require more memory than available.\n",
       "\n",
       "However, this approach still has a time complexity of O(n^2) because it uses dictionary lookup within its own generator. If you're dealing with large lists and/or dictionaries, there may be performance improvements if you can use other approaches like list comprehension with `if-else` or dictionary comprehension that handles nested dictionaries directly.\n",
       "\n",
       "The following code snippet will have much better time complexity:\n",
       "\n",
       "python\n",
       "authors = {}\n",
       "for book in books:\n",
       "    author = book.get(\"author\")\n",
       "    if author is not None and author not in authors:\n",
       "        yield author, {book[\"title\"] for book in [b for b in books if (b[\"title\"] == book[\"title\" and \"author\"] == author]]}\n",
       "\n",
       "authors_dict = dict(authors)\n",
       "# use authors_dict here\n"
      ],
      "text/plain": [
       "<IPython.core.display.Markdown object>"
      ]
     },
     "metadata": {},
     "output_type": "display_data"
    }
   ],
   "source": [
    "# Get Llama 3.2 to answer\n",
    "ollama_via_openai = OpenAI(base_url='http://localhost:11434/v1', api_key='ollama')\n",
    "stream_response(ollama_via_openai, MODEL_LLAMA, system_prompt, question)"
   ]
  },
  {
   "cell_type": "code",
   "execution_count": null,
   "id": "8e9ebd11",
   "metadata": {},
   "outputs": [],
   "source": []
  }
 ],
 "metadata": {
  "kernelspec": {
   "display_name": ".venv",
   "language": "python",
   "name": "python3"
  },
  "language_info": {
   "codemirror_mode": {
    "name": "ipython",
    "version": 3
   },
   "file_extension": ".py",
   "mimetype": "text/x-python",
   "name": "python",
   "nbconvert_exporter": "python",
   "pygments_lexer": "ipython3",
   "version": "3.12.8"
  }
 },
 "nbformat": 4,
 "nbformat_minor": 5
}
